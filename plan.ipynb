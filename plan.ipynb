{
 "cells": [
  {
   "cell_type": "markdown",
   "metadata": {},
   "source": [
    "get webcam from angeline"
   ]
  },
  {
   "cell_type": "markdown",
   "metadata": {},
   "source": [
    "## MidJourney\n",
    "1. Create a PRIVATE server and invite Midjourney (http://discord.gg/midjourney). This cannot work with the public MidJourney Discord\n",
    "2. Discord Developer Portal - create a new bot that sends a fixed prompt to a specified server, and listens for response, and download it\n",
    "3. Get its token and invite to private Discord server where Midjourney is active\n",
    "\n",
    "- need to use express.js ngrok to run it\n",
    "- need to see how to publish and return the image from the main.py\n",
    "- need to see how to auto prompt the bot with the same prompt without having to type into discord\n",
    "- what type of prompt, will keep the gender of people the same?\n"
   ]
  },
  {
   "cell_type": "markdown",
   "metadata": {},
   "source": [
    "## Saving to cloud\n",
    "1. Set up cloud storage\n",
    "2. Set up automated QR code creation\n",
    "3. Send image to cloud with its own QR code\n",
    "4. Delete data when necessary"
   ]
  },
  {
   "cell_type": "markdown",
   "metadata": {},
   "source": [
    "## Printing\n",
    "1. Set up Printer connection\n",
    "2. Send the edited image to the printer app\n",
    "3. Edit the border as necessary\n",
    "4. Print the photo\n"
   ]
  }
 ],
 "metadata": {
  "kernelspec": {
   "display_name": "conda_env",
   "language": "python",
   "name": "python3"
  },
  "language_info": {
   "codemirror_mode": {
    "name": "ipython",
    "version": 3
   },
   "file_extension": ".py",
   "mimetype": "text/x-python",
   "name": "python",
   "nbconvert_exporter": "python",
   "pygments_lexer": "ipython3",
   "version": "3.13.1"
  }
 },
 "nbformat": 4,
 "nbformat_minor": 2
}

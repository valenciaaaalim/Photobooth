{
 "cells": [
  {
   "cell_type": "code",
   "execution_count": null,
   "metadata": {},
   "outputs": [],
   "source": [
    "from selenium import webdriver\n",
    "from selenium.webdriver.common.by import By\n",
    "from selenium.webdriver.common.keys import Keys\n",
    "import time\n",
    "\n",
    "def upload_to_midjourney(image_path):\n",
    "    driver = webdriver.Chrome()  # Ensure ChromeDriver is in PATH\n",
    "    driver.get(\"https://www.midjourney.com/\")  # Replace with actual URL\n",
    "\n",
    "    # Automate login if required\n",
    "    login_button = driver.find_element(By.XPATH, \"//button[contains(text(), 'Login')]\")\n",
    "    login_button.click()\n",
    "    time.sleep(3)\n",
    "\n",
    "    # Upload image\n",
    "    upload_button = driver.find_element(By.XPATH, \"//input[@type='file']\")\n",
    "    upload_button.send_keys(image_path)\n",
    "    time.sleep(10)\n",
    "\n",
    "    # Wait for processing and download the result\n",
    "    processed_image = driver.find_element(By.XPATH, \"//img[contains(@class, 'processed-image')]\")\n",
    "    src_url = processed_image.get_attribute(\"src\")\n",
    "    driver.quit()\n",
    "\n",
    "    return src_url  # Download the image from this URL programmatically\n"
   ]
  },
  {
   "cell_type": "code",
   "execution_count": null,
   "metadata": {},
   "outputs": [],
   "source": [
    "#pip install google-cloud-storage qrcode\n",
    "\n",
    "import qrcode\n",
    "\n",
    "def generate_qr_code(url, output_file=\"qrcode.png\"):\n",
    "    qr = qrcode.QRCode(\n",
    "        version=1,\n",
    "        error_correction=qrcode.constants.ERROR_CORRECT_L,\n",
    "        box_size=10,\n",
    "        border=4,\n",
    "    )\n",
    "    qr.add_data(url)\n",
    "    qr.make(fit=True)\n",
    "\n",
    "    img = qr.make_image(fill_color=\"black\", back_color=\"white\")\n",
    "    img.save(output_file)\n",
    "    print(f\"QR code saved to {output_file}\")\n"
   ]
  }
 ],
 "metadata": {
  "kernelspec": {
   "display_name": "conda_env",
   "language": "python",
   "name": "python3"
  },
  "language_info": {
   "codemirror_mode": {
    "name": "ipython",
    "version": 3
   },
   "file_extension": ".py",
   "mimetype": "text/x-python",
   "name": "python",
   "nbconvert_exporter": "python",
   "pygments_lexer": "ipython3",
   "version": "3.13.1"
  }
 },
 "nbformat": 4,
 "nbformat_minor": 2
}
